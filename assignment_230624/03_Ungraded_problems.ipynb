{
  "nbformat": 4,
  "nbformat_minor": 0,
  "metadata": {
    "colab": {
      "provenance": [],
      "authorship_tag": "ABX9TyPzkjy7zyFDLYwBATHJUhFk",
      "include_colab_link": true
    },
    "kernelspec": {
      "name": "python3",
      "display_name": "Python 3"
    },
    "language_info": {
      "name": "python"
    }
  },
  "cells": [
    {
      "cell_type": "markdown",
      "metadata": {
        "id": "view-in-github",
        "colab_type": "text"
      },
      "source": [
        "<a href=\"https://colab.research.google.com/github/ShrihariJalihal/DL-Assignments/blob/develop/assignment_230624/03_Ungraded_problems.ipynb\" target=\"_parent\"><img src=\"https://colab.research.google.com/assets/colab-badge.svg\" alt=\"Open In Colab\"/></a>"
      ]
    },
    {
      "cell_type": "code",
      "execution_count": 3,
      "metadata": {
        "id": "sdZPS84P9kCf"
      },
      "outputs": [],
      "source": [
        "import numpy as np\n",
        "import scipy\n",
        "import sympy as sym\n",
        "import matplotlib.pyplot as plt\n",
        "from sympy.abc import x, y,z\n",
        "from scipy import linalg\n",
        "from numpy.linalg import eig"
      ]
    },
    {
      "cell_type": "markdown",
      "source": [
        "1. Given the following matrix:\n",
        "\n",
        "A = [[3 1 1]\n",
        "    ,[−1 3 1]]\n",
        "Compute the Singular Value Decomposition of matrix A."
      ],
      "metadata": {
        "id": "EELstOfo9p5J"
      }
    },
    {
      "cell_type": "code",
      "source": [
        "A_1 = np.array([[3,1,1],[-1,3,1]])\n",
        "print(\"Array:\\n\",A_1)\n",
        "\n"
      ],
      "metadata": {
        "colab": {
          "base_uri": "https://localhost:8080/"
        },
        "id": "nX4cWxZt-bAm",
        "outputId": "b84e7c3e-6a83-437f-8465-119159a41690"
      },
      "execution_count": 6,
      "outputs": [
        {
          "output_type": "stream",
          "name": "stdout",
          "text": [
            "Array:\n",
            " [[ 3  1  1]\n",
            " [-1  3  1]]\n"
          ]
        }
      ]
    }
  ]
}