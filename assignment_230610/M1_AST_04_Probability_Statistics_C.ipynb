{
  "nbformat": 4,
  "nbformat_minor": 0,
  "metadata": {
    "colab": {
      "provenance": [],
      "include_colab_link": true
    },
    "kernelspec": {
      "name": "python3",
      "display_name": "Python 3"
    },
    "language_info": {
      "name": "python"
    }
  },
  "cells": [
    {
      "cell_type": "markdown",
      "metadata": {
        "id": "view-in-github",
        "colab_type": "text"
      },
      "source": [
        "<a href=\"https://colab.research.google.com/github/ShrihariJalihal/DL-Assignments/blob/develop/assignment_230610/M1_AST_04_Probability_Statistics_C.ipynb\" target=\"_parent\"><img src=\"https://colab.research.google.com/assets/colab-badge.svg\" alt=\"Open In Colab\"/></a>"
      ]
    },
    {
      "cell_type": "markdown",
      "metadata": {
        "id": "DCgpE0GSFT8a"
      },
      "source": [
        "# Advanced Certification Program in Deep Learning\n",
        "## A program by IISc and TalentSprint\n",
        "### Assignment 4: Probability and Statistics "
      ]
    },
    {
      "cell_type": "markdown",
      "metadata": {
        "id": "pr0NVbjeFYi5"
      },
      "source": [
        "## Learning Objectives"
      ]
    },
    {
      "cell_type": "markdown",
      "metadata": {
        "id": "qwcb4wBybvSm"
      },
      "source": [
        "At the end of the experiment, you will be able to\n",
        "\n",
        "* get a broad exposure of the random variables and the way to deal them\n",
        "\n",
        "* understand the concepts of discrete, continuous random variables \n",
        "\n",
        "* understand CDF, PMF, PDF \n",
        "\n",
        "* understand the concepts of probability distributions\n",
        "\n",
        "* understand Expectation and Moments of random variables"
      ]
    },
    {
      "cell_type": "markdown",
      "metadata": {
        "id": "BNLA8HiKxQhc"
      },
      "source": [
        "### Setup Steps:"
      ]
    },
    {
      "cell_type": "code",
      "metadata": {
        "id": "xWMVQWk58aXm"
      },
      "source": [
        "#@title Please enter your registration id to start: { run: \"auto\", display-mode: \"form\" }\n",
        "Id = \"2240589\" #@param {type:\"string\"}"
      ],
      "execution_count": 1,
      "outputs": []
    },
    {
      "cell_type": "code",
      "metadata": {
        "id": "cwqosl928dBA"
      },
      "source": [
        "#@title Please enter your password (normally your phone number) to continue: { run: \"auto\", display-mode: \"form\" }\n",
        "password = \"9886499911\" #@param {type:\"string\"}"
      ],
      "execution_count": 2,
      "outputs": []
    },
    {
      "cell_type": "code",
      "metadata": {
        "cellView": "form",
        "id": "tEHO97C5afDD",
        "outputId": "3e4f4295-68e4-4b0b-9eed-eab0bab86327",
        "colab": {
          "base_uri": "https://localhost:8080/",
          "height": 34
        }
      },
      "source": [
        "#@title Run this cell to complete the setup for this Notebook\n",
        "from IPython import get_ipython\n",
        "import warnings\n",
        "warnings.filterwarnings(\"ignore\")\n",
        "\n",
        "ipython = get_ipython()\n",
        "  \n",
        "notebook= \"M1_AST_04_Probability_Statistics_C\" #name of the notebook\n",
        "\n",
        "def setup():\n",
        "    from IPython.display import HTML, display\n",
        "    display(HTML('<script src=\"https://dashboard.talentsprint.com/aiml/record_ip.html?traineeId={0}&recordId={1}\"></script>'.format(getId(),submission_id)))\n",
        "    print(\"Setup completed successfully\")\n",
        "    return\n",
        "\n",
        "def submit_notebook():\n",
        "    ipython.magic(\"notebook -e \"+ notebook + \".ipynb\")\n",
        "    \n",
        "    import requests, json, base64, datetime\n",
        "\n",
        "    url = \"https://dashboard.talentsprint.com/xp/app/save_notebook_attempts\"\n",
        "    if not submission_id:\n",
        "      data = {\"id\" : getId(), \"notebook\" : notebook, \"mobile\" : getPassword()}\n",
        "      r = requests.post(url, data = data)\n",
        "      r = json.loads(r.text)\n",
        "\n",
        "      if r[\"status\"] == \"Success\":\n",
        "          return r[\"record_id\"]\n",
        "      elif \"err\" in r:        \n",
        "        print(r[\"err\"])\n",
        "        return None        \n",
        "      else:\n",
        "        print (\"Something is wrong, the notebook will not be submitted for grading\")\n",
        "        return None\n",
        "    \n",
        "    elif getAnswer1() and getAnswer2() and getComplexity() and getAdditional() and getConcepts() and getComments() and getMentorSupport():\n",
        "      f = open(notebook + \".ipynb\", \"rb\")\n",
        "      file_hash = base64.b64encode(f.read())\n",
        "\n",
        "      data = {\"complexity\" : Complexity, \"additional\" :Additional, \n",
        "              \"concepts\" : Concepts, \"record_id\" : submission_id, \n",
        "              \"answer1\" : Answer1, \"answer2\" : Answer2, \"id\" : Id, \"file_hash\" : file_hash,\n",
        "              \"notebook\" : notebook,\n",
        "              \"feedback_experiments_input\" : Comments,\n",
        "              \"feedback_mentor_support\": Mentor_support}\n",
        "      r = requests.post(url, data = data)\n",
        "      r = json.loads(r.text)\n",
        "      if \"err\" in r:        \n",
        "        print(r[\"err\"])\n",
        "        return None   \n",
        "      else:\n",
        "        print(\"Your submission is successful.\")\n",
        "        print(\"Ref Id:\", submission_id)\n",
        "        print(\"Date of submission: \", r[\"date\"])\n",
        "        print(\"Time of submission: \", r[\"time\"])\n",
        "        print(\"View your submissions: https://dlfa-iisc.talentsprint.com/notebook_submissions\")\n",
        "        #print(\"For any queries/discrepancies, please connect with mentors through the chat icon in LMS dashboard.\")\n",
        "        return submission_id\n",
        "    else: submission_id\n",
        "    \n",
        "\n",
        "def getAdditional():\n",
        "  try:\n",
        "    if not Additional: \n",
        "      raise NameError\n",
        "    else:\n",
        "      return Additional  \n",
        "  except NameError:\n",
        "    print (\"Please answer Additional Question\")\n",
        "    return None\n",
        "\n",
        "def getComplexity():\n",
        "  try:\n",
        "    if not Complexity:\n",
        "      raise NameError\n",
        "    else:\n",
        "      return Complexity\n",
        "  except NameError:\n",
        "    print (\"Please answer Complexity Question\")\n",
        "    return None\n",
        "  \n",
        "def getConcepts():\n",
        "  try:\n",
        "    if not Concepts:\n",
        "      raise NameError\n",
        "    else:\n",
        "      return Concepts\n",
        "  except NameError:\n",
        "    print (\"Please answer Concepts Question\")\n",
        "    return None\n",
        "  \n",
        "  \n",
        "# def getWalkthrough():\n",
        "#   try:\n",
        "#     if not Walkthrough:\n",
        "#       raise NameError\n",
        "#     else:\n",
        "#       return Walkthrough\n",
        "#   except NameError:\n",
        "#     print (\"Please answer Walkthrough Question\")\n",
        "#     return None\n",
        "  \n",
        "def getComments():\n",
        "  try:\n",
        "    if not Comments:\n",
        "      raise NameError\n",
        "    else:\n",
        "      return Comments\n",
        "  except NameError:\n",
        "    print (\"Please answer Comments Question\")\n",
        "    return None\n",
        "  \n",
        "\n",
        "def getMentorSupport():\n",
        "  try:\n",
        "    if not Mentor_support:\n",
        "      raise NameError\n",
        "    else:\n",
        "      return Mentor_support\n",
        "  except NameError:\n",
        "    print (\"Please answer Mentor support Question\")\n",
        "    return None\n",
        "\n",
        "def getAnswer1():\n",
        "  try:\n",
        "    if not Answer1:\n",
        "      raise NameError \n",
        "    else: \n",
        "      return Answer1\n",
        "  except NameError:\n",
        "    print (\"Please answer Question 1\")\n",
        "    return None\n",
        "\n",
        "def getAnswer2():\n",
        "  try:\n",
        "    if not Answer2:\n",
        "      raise NameError \n",
        "    else: \n",
        "      return Answer2\n",
        "  except NameError:\n",
        "    print (\"Please answer Question 2\")\n",
        "    return None\n",
        "  \n",
        "\n",
        "def getId():\n",
        "  try: \n",
        "    return Id if Id else None\n",
        "  except NameError:\n",
        "    return None\n",
        "\n",
        "def getPassword():\n",
        "  try:\n",
        "    return password if password else None\n",
        "  except NameError:\n",
        "    return None\n",
        "\n",
        "submission_id = None\n",
        "### Setup \n",
        "if getPassword() and getId():\n",
        "  submission_id = submit_notebook()\n",
        "  if submission_id:\n",
        "    setup() \n",
        "else:\n",
        "  print (\"Please complete Id and Password cells before running setup\")\n",
        "\n"
      ],
      "execution_count": 3,
      "outputs": [
        {
          "output_type": "display_data",
          "data": {
            "text/plain": [
              "<IPython.core.display.HTML object>"
            ],
            "text/html": [
              "<script src=\"https://dashboard.talentsprint.com/aiml/record_ip.html?traineeId=2240589&recordId=289\"></script>"
            ]
          },
          "metadata": {}
        },
        {
          "output_type": "stream",
          "name": "stdout",
          "text": [
            "Setup completed successfully\n"
          ]
        }
      ]
    },
    {
      "cell_type": "markdown",
      "metadata": {
        "id": "fuXwHNEXFntd"
      },
      "source": [
        "#### Importing required packages"
      ]
    },
    {
      "cell_type": "code",
      "metadata": {
        "id": "vJnhXhDAFTHj"
      },
      "source": [
        "import scipy                        # Scientific computation library\n",
        "import numpy as np\n",
        "import pandas as pd\n",
        "\n",
        "import seaborn as sns               # Advaced Visualization with high level interface\n",
        "import math\n",
        "import matplotlib.pyplot as plt     # Visualization\n",
        "import scipy.stats as stats\n",
        "\n",
        "from math import factorial\n",
        "from scipy import integrate         # Several integration techniques\n",
        "\n",
        "# Importing various continuos and discrete probability distributions\n",
        "from scipy.stats import binom, expon, uniform, bernoulli, poisson\n",
        "\n",
        "sns.set_style('whitegrid')"
      ],
      "execution_count": 4,
      "outputs": []
    },
    {
      "cell_type": "markdown",
      "source": [
        "Distribution is a function that provides the possible values of a variable and how often they occur. The probability distribution is a mathematical function that provides the possibilities of occurrence of the various possible outcomes that can occur in an experiment.\n",
        "\n",
        "Probability distributions are either continuous probability distributions or discrete probability distributions, depending on whether they define probabilities for continuous or discrete random variables as shown in the figure below."
      ],
      "metadata": {
        "id": "ceCWjE6lfEUM"
      }
    },
    {
      "cell_type": "markdown",
      "metadata": {
        "id": "Qen2Rd3dshL9"
      },
      "source": [
        "### Random Variables"
      ]
    },
    {
      "cell_type": "markdown",
      "metadata": {
        "id": "MF6UPftAl97u"
      },
      "source": [
        "Random variable is basically a function which maps from the set of sample space to set of real numbers. The purpose is to get an idea about result of a particular situation where we are given probabilities of different outcomes.\n",
        "\n",
        "   Formal definition :   $ X: S -> R $\n",
        "\n",
        "where,  $X$ = random variable, $S$ = set of sample space, $R$ = set of real numbers\n",
        "   \n",
        "To know more about random variables click [here](http://www.stat.yale.edu/Courses/1997-98/101/ranvar.htm).\n",
        "   \n",
        "There are mainly two types of random variables: discrete and continuous as shown in figure below\n",
        "\n",
        "<center>\n",
        "<img src=\"https://cdn.iisc.talentsprint.com/CDS/Images/Random_variables.jpg\" width=550px/>\n",
        "</center>\n",
        "\n"
      ]
    },
    {
      "cell_type": "markdown",
      "metadata": {
        "id": "oQeldSlDmIa2"
      },
      "source": [
        "Constructing probability distributions for random variables"
      ]
    },
    {
      "cell_type": "markdown",
      "metadata": {
        "id": "CATXIJ0QmJYj"
      },
      "source": [
        "### Discrete Random Variable and PMF"
      ]
    },
    {
      "cell_type": "markdown",
      "metadata": {
        "id": "wnQ9FlZymOxA"
      },
      "source": [
        "A random variable $X$ is said to be discrete if it takes on finite number of values. The probability function associated with it is said to be probability mass function or PMF.\n",
        "$P(x_i)$ = Probability that $(X = x_i)$ = PMF of $X = p_i$.\n",
        "\n",
        "* $ 0 ≤ p_i ≤ 1 $\n",
        "* $ ∑p_i = 1 $ where the sum is taken over all possible values of X "
      ]
    },
    {
      "cell_type": "markdown",
      "metadata": {
        "id": "CrzDjmqCmRYn"
      },
      "source": [
        "**Exercise 1:** Let $S$ is the sample space given below and corresponding $P(X=x_i)$ is also given, where $X$ is a discrete random variable. Find the probability at $X=0$."
      ]
    },
    {
      "cell_type": "code",
      "metadata": {
        "id": "XO5tSsN_mVAC"
      },
      "source": [
        "# Creating the dataframe\n",
        "df1 = pd.DataFrame({'X=0': '?', 'X=1':0.2, 'X=3': 0.3, 'X=4': 0.1}, index= ['P(X=xi)'])\n",
        "print(df1)"
      ],
      "execution_count": null,
      "outputs": []
    },
    {
      "cell_type": "code",
      "metadata": {
        "id": "ci0ZqXMnmXpC",
        "outputId": "dd3de661-ec72-4406-fabe-f827e9ee45a5",
        "colab": {
          "base_uri": "https://localhost:8080/"
        }
      },
      "source": [
        "# For a discrete random variable we know that sum of all P(X=xi) = 1,\n",
        "df1['X=0'] = 1 - sum(df1.iloc[0,1:])\n",
        "print(df1)"
      ],
      "execution_count": 6,
      "outputs": [
        {
          "output_type": "stream",
          "name": "stdout",
          "text": [
            "         X=0  X=1  X=3  X=4\n",
            "P(X=xi)  0.4  0.2  0.3  0.1\n"
          ]
        }
      ]
    },
    {
      "cell_type": "markdown",
      "metadata": {
        "id": "5nNun5SSmaex"
      },
      "source": [
        "**Exercise 2:** Plot the PMF of the discrete random variable X defined as total number of heads while tossing a coin thrice."
      ]
    },
    {
      "cell_type": "code",
      "metadata": {
        "id": "4MjPTMtTnxfD"
      },
      "source": [
        "# Our sample space would consist of {HHH, HHT,HTH, THH, TTH, THT, HTT, TTT}\n",
        "X = [0, 1, 2, 3]   # Number of heads we can get are\n",
        "\n",
        "P_X0 = 1/8   # P(X=0)     {TTT}\n",
        "P_X1 = 3/8   # P(X=1)     {HTT, THT, TTH}\n",
        "P_X2 = 3/8   # P(X=2)     {HHT, HTH, THH}\n",
        "P_X3 = 1/8   # P(X=3)     {HHH}\n",
        "P_Xi = [P_X0, P_X1, P_X2, P_X3]"
      ],
      "execution_count": 7,
      "outputs": []
    },
    {
      "cell_type": "code",
      "metadata": {
        "id": "8rCTYlQ9nzz0",
        "outputId": "a0e9174b-646c-4624-e02b-98d98f4a5546",
        "colab": {
          "base_uri": "https://localhost:8080/",
          "height": 472
        }
      },
      "source": [
        "# Plotting PMF\n",
        "sns.barplot(x= X, y= P_Xi)\n",
        "plt.title('PMF (Probability Mass Function)')\n",
        "plt.xlabel('Number of heads')\n",
        "plt.ylabel('Probability')\n",
        "plt.show();"
      ],
      "execution_count": 8,
      "outputs": [
        {
          "output_type": "display_data",
          "data": {
            "text/plain": [
              "<Figure size 640x480 with 1 Axes>"
            ],
            "image/png": "[encoded data removed]"
          },
          "metadata": {}
        }
      ]
    },
    {
      "cell_type": "code",
      "metadata": {
        "id": "roolHZ0mn1yH",
        "outputId": "bb202095-ffd6-4e89-b5da-552ff009f3e0",
        "colab": {
          "base_uri": "https://localhost:8080/",
          "height": 472
        }
      },
      "source": [
        "# Plotting CDF or cumulative distribution function\n",
        "sns.barplot(x= X, y= np.array(P_Xi).cumsum())\n",
        "plt.title('Cumulative Distribution Function')\n",
        "plt.xlabel('Number of heads')\n",
        "plt.ylabel('Cumulative Probability')\n",
        "plt.show();"
      ],
      "execution_count": 9,
      "outputs": [
        {
          "output_type": "display_data",
          "data": {
            "text/plain": [
              "<Figure size 640x480 with 1 Axes>"
            ],
            "image/png": "[encoded data removed]"
          },
          "metadata": {}
        }
      ]
    },
    {
      "cell_type": "markdown",
      "metadata": {
        "id": "-81qffwsn_qW"
      },
      "source": [
        "For further reference [click here](https://numpy.org/doc/stable/reference/generated/numpy.cumsum.html)"
      ]
    },
    {
      "cell_type": "markdown",
      "metadata": {
        "id": "9pVMTz-1oL2h"
      },
      "source": [
        "From above plot it can be seen that $ ∑p_i = 1 $. "
      ]
    },
    {
      "cell_type": "markdown",
      "metadata": {
        "id": "U5Kpz9ALoOV1"
      },
      "source": [
        "### Continuous Random Variable and PDF"
      ]
    },
    {
      "cell_type": "markdown",
      "metadata": {
        "id": "eriwc_DVoQmN"
      },
      "source": [
        "A random variable $X$ is said to be continuous if it takes on the infinite number of values. The probability function associated with it is said to be PDF or probability density function.\n",
        "\n",
        "PDF: If $X$ is a continuous random variable.\n",
        "\n",
        "$ P (x < X < x + dx) = f(x).dx $\n",
        "\n",
        "* $ f(x) ≥ 0; $ for all $x$\n",
        "* $ ∫ f(x) dx = 1  $ over all values of $x$\n",
        "\n",
        "Then $P (X)$ is said to be a PDF of the distribution.\n",
        "\n",
        "The probability distribution of a continuous random variable $X$ is an assignment of probabilities to intervals of decimal numbers using a function $f(x)$, called a density function, in the following way: the probability that $X$ assumes a value in the interval $(a,b)$ is equal to the area of the region that is bounded above by the graph of the equation $y=f(x)$, bounded below by the $x$-axis, and bounded on the left and right by the vertical lines through $a$ and $b$, as shown in the figure below\n",
        "![image](https://cdn.iisc.talentsprint.com/CDS/Images/prob_density_function.png)"
      ]
    },
    {
      "cell_type": "markdown",
      "metadata": {
        "id": "pEOpUq7soUyq"
      },
      "source": [
        "**Exercise 3:** Compute the value of $P (1 < X < 2)$.\n",
        "    Such that the density function is given by,\n",
        "    \n",
        "$$f(x)=\\begin{equation}\n",
        "\\left\\{ \n",
        "  \\begin{aligned}\n",
        "    &k.x^3&  for\\ \\  0 ≤ x ≤ 3\\\\ \n",
        "    &0&   \\  otherwise\\\\ \n",
        "  \\end{aligned}\n",
        "  \\right.\n",
        "\\end{equation}\n",
        "$$\n",
        "     \n",
        "Also, plot the PDF and CDF for random variable $X$."
      ]
    },
    {
      "cell_type": "code",
      "metadata": {
        "id": "CNI1IEAsoPlJ",
        "outputId": "b0e963a8-9d3e-4281-b6e4-89aea3fdde57",
        "colab": {
          "base_uri": "https://localhost:8080/"
        }
      },
      "source": [
        "# ∫ f(x) dx = 1\n",
        "# Using the above property we find k,\n",
        "# ∫ (k*x**3)dx = 1\n",
        "# k = 1 / ∫ (x**3)dx\n",
        "k = 1 / (integrate.quad(lambda x: x**3, 0, 3)[0])        # integrate  x^3  w.r.t  x from 0 to 3\n",
        "print('k=', round(k,4))"
      ],
      "execution_count": 10,
      "outputs": [
        {
          "output_type": "stream",
          "name": "stdout",
          "text": [
            "k= 0.0494\n"
          ]
        }
      ]
    },
    {
      "cell_type": "code",
      "metadata": {
        "id": "yyq1b4P4odTt",
        "outputId": "2e059e9f-9990-416b-efe1-63c65df2fe49",
        "colab": {
          "base_uri": "https://localhost:8080/"
        }
      },
      "source": [
        "# Now the probability density for 1<X<2 is given by,\n",
        "P = integrate.quad(lambda x: k*x**3, 1, 2)[0]\n",
        "print('P(1<X<2)=', round(P, 4))"
      ],
      "execution_count": 11,
      "outputs": [
        {
          "output_type": "stream",
          "name": "stdout",
          "text": [
            "P(1<X<2)= 0.1852\n"
          ]
        }
      ]
    },
    {
      "cell_type": "code",
      "metadata": {
        "id": "DZHvpxOVofcl",
        "outputId": "efd0f2d8-65f6-44b7-93f8-f590142c1cec",
        "colab": {
          "base_uri": "https://localhost:8080/",
          "height": 206
        }
      },
      "source": [
        "# Create 100 values within 0 to 3 in order to plot PDF and CDF\n",
        "x = np.linspace(0,3,100)\n",
        "df2 = pd.DataFrame({'X':[], 'PDF':[], 'CDF':[]})\n",
        "df2['X'] = x\n",
        "df2['PDF'] = df2['X'].apply(lambda v: k*v**3)\n",
        "df2['CDF'] = df2['X'].apply(lambda v: integrate.quad(lambda u: k*u**3, 0, v)[0])\n",
        "df2.head()"
      ],
      "execution_count": 12,
      "outputs": [
        {
          "output_type": "execute_result",
          "data": {
            "text/plain": [
              "          X       PDF           CDF\n",
              "0  0.000000  0.000000  0.000000e+00\n",
              "1  0.030303  0.000001  1.041020e-08\n",
              "2  0.060606  0.000011  1.665633e-07\n",
              "3  0.090909  0.000037  8.432265e-07\n",
              "4  0.121212  0.000088  2.665012e-06"
            ],
            "text/html": [
              "\n",
              "  <div id=\"df-66a7daeb-21b8-42d7-8c09-5252ace43f6d\">\n",
              "    <div class=\"colab-df-container\">\n",
              "      <div>\n",
              "<style scoped>\n",
              "    .dataframe tbody tr th:only-of-type {\n",
              "        vertical-align: middle;\n",
              "    }\n",
              "\n",
              "    .dataframe tbody tr th {\n",
              "        vertical-align: top;\n",
              "    }\n",
              "\n",
              "    .dataframe thead th {\n",
              "        text-align: right;\n",
              "    }\n",
              "</style>\n",
              "<table border=\"1\" class=\"dataframe\">\n",
              "  <thead>\n",
              "    <tr style=\"text-align: right;\">\n",
              "      <th></th>\n",
              "      <th>X</th>\n",
              "      <th>PDF</th>\n",
              "      <th>CDF</th>\n",
              "    </tr>\n",
              "  </thead>\n",
              "  <tbody>\n",
              "    <tr>\n",
              "      <th>0</th>\n",
              "      <td>0.000000</td>\n",
              "      <td>0.000000</td>\n",
              "      <td>0.000000e+00</td>\n",
              "    </tr>\n",
              "    <tr>\n",
              "      <th>1</th>\n",
              "      <td>0.030303</td>\n",
              "      <td>0.000001</td>\n",
              "      <td>1.041020e-08</td>\n",
              "    </tr>\n",
              "    <tr>\n",
              "      <th>2</th>\n",
              "      <td>0.060606</td>\n",
              "      <td>0.000011</td>\n",
              "      <td>1.665633e-07</td>\n",
              "    </tr>\n",
              "    <tr>\n",
              "      <th>3</th>\n",
              "      <td>0.090909</td>\n",
              "      <td>0.000037</td>\n",
              "      <td>8.432265e-07</td>\n",
              "    </tr>\n",
              "    <tr>\n",
              "      <th>4</th>\n",
              "      <td>0.121212</td>\n",
              "      <td>0.000088</td>\n",
              "      <td>2.665012e-06</td>\n",
              "    </tr>\n",
              "  </tbody>\n",
              "</table>\n",
              "</div>\n",
              "      <button class=\"colab-df-convert\" onclick=\"convertToInteractive('df-66a7daeb-21b8-42d7-8c09-5252ace43f6d')\"\n",
              "              title=\"Convert this dataframe to an interactive table.\"\n",
              "              style=\"display:none;\">\n",
              "        \n",
              "  <svg xmlns=\"http://www.w3.org/2000/svg\" height=\"24px\"viewBox=\"0 0 24 24\"\n",
              "       width=\"24px\">\n",
              "    <path d=\"M0 0h24v24H0V0z\" fill=\"none\"/>\n",
              "    <path d=\"M18.56 5.44l.94 2.06.94-2.06 2.06-.94-2.06-.94-.94-2.06-.94 2.06-2.06.94zm-11 1L8.5 8.5l.94-2.06 2.06-.94-2.06-.94L8.5 2.5l-.94 2.06-2.06.94zm10 10l.94 2.06.94-2.06 2.06-.94-2.06-.94-.94-2.06-.94 2.06-2.06.94z\"/><path d=\"M17.41 7.96l-1.37-1.37c-.4-.4-.92-.59-1.43-.59-.52 0-1.04.2-1.43.59L10.3 9.45l-7.72 7.72c-.78.78-.78 2.05 0 2.83L4 21.41c.39.39.9.59 1.41.59.51 0 1.02-.2 1.41-.59l7.78-7.78 2.81-2.81c.8-.78.8-2.07 0-2.86zM5.41 20L4 18.59l7.72-7.72 1.47 1.35L5.41 20z\"/>\n",
              "  </svg>\n",
              "      </button>\n",
              "      \n",
              "  <style>\n",
              "    .colab-df-container {\n",
              "      display:flex;\n",
              "      flex-wrap:wrap;\n",
              "      gap: 12px;\n",
              "    }\n",
              "\n",
              "    .colab-df-convert {\n",
              "      background-color: #E8F0FE;\n",
              "      border: none;\n",
              "      border-radius: 50%;\n",
              "      cursor: pointer;\n",
              "      display: none;\n",
              "      fill: #1967D2;\n",
              "      height: 32px;\n",
              "      padding: 0 0 0 0;\n",
              "      width: 32px;\n",
              "    }\n",
              "\n",
              "    .colab-df-convert:hover {\n",
              "      background-color: #E2EBFA;\n",
              "      box-shadow: 0px 1px 2px rgba(60, 64, 67, 0.3), 0px 1px 3px 1px rgba(60, 64, 67, 0.15);\n",
              "      fill: #174EA6;\n",
              "    }\n",
              "\n",
              "    [theme=dark] .colab-df-convert {\n",
              "      background-color: #3B4455;\n",
              "      fill: #D2E3FC;\n",
              "    }\n",
              "\n",
              "    [theme=dark] .colab-df-convert:hover {\n",
              "      background-color: #434B5C;\n",
              "      box-shadow: 0px 1px 3px 1px rgba(0, 0, 0, 0.15);\n",
              "      filter: drop-shadow(0px 1px 2px rgba(0, 0, 0, 0.3));\n",
              "      fill: #FFFFFF;\n",
              "    }\n",
              "  </style>\n",
              "\n",
              "      <script>\n",
              "        const buttonEl =\n",
              "          document.querySelector('#df-66a7daeb-21b8-42d7-8c09-5252ace43f6d button.colab-df-convert');\n",
              "        buttonEl.style.display =\n",
              "          google.colab.kernel.accessAllowed ? 'block' : 'none';\n",
              "\n",
              "        async function convertToInteractive(key) {\n",
              "          const element = document.querySelector('#df-66a7daeb-21b8-42d7-8c09-5252ace43f6d');\n",
              "          const dataTable =\n",
              "            await google.colab.kernel.invokeFunction('convertToInteractive',\n",
              "                                                     [key], {});\n",
              "          if (!dataTable) return;\n",
              "\n",
              "          const docLinkHtml = 'Like what you see? Visit the ' +\n",
              "            '<a target=\"_blank\" href=https://colab.research.google.com/notebooks/data_table.ipynb>data table notebook</a>'\n",
              "            + ' to learn more about interactive tables.';\n",
              "          element.innerHTML = '';\n",
              "          dataTable['output_type'] = 'display_data';\n",
              "          await google.colab.output.renderOutput(dataTable, element);\n",
              "          const docLink = document.createElement('div');\n",
              "          docLink.innerHTML = docLinkHtml;\n",
              "          element.appendChild(docLink);\n",
              "        }\n",
              "      </script>\n",
              "    </div>\n",
              "  </div>\n",
              "  "
            ]
          },
          "metadata": {},
          "execution_count": 12
        }
      ]
    },
    {
      "cell_type": "code",
      "metadata": {
        "id": "5kXWmQzyohez",
        "outputId": "2db31e49-d905-4255-e2fa-f943f0d7c0b8",
        "colab": {
          "base_uri": "https://localhost:8080/",
          "height": 472
        }
      },
      "source": [
        "# Plotting PDF\n",
        "sns.lineplot(x= 'X', y= 'PDF', data= df2)\n",
        "plt.title('PDF'); plt.xlabel('X'); plt.ylabel('Probability density')\n",
        "plt.show()"
      ],
      "execution_count": 13,
      "outputs": [
        {
          "output_type": "display_data",
          "data": {
            "text/plain": [
              "<Figure size 640x480 with 1 Axes>"
            ],
            "image/png": "[encoded data removed]"
          },
          "metadata": {}
        }
      ]
    },
    {
      "cell_type": "code",
      "metadata": {
        "id": "_Z62RWjsojd8",
        "outputId": "533406eb-b105-4bda-c61b-faeb51af07ee",
        "colab": {
          "base_uri": "https://localhost:8080/",
          "height": 472
        }
      },
      "source": [
        "# Plotting CDF\n",
        "sns.lineplot(x= 'X', y= 'CDF', data= df2)\n",
        "plt.title('Cummulative distribution function'); plt.xlabel('X'); plt.ylabel('Probability density')\n",
        "plt.show()"
      ],
      "execution_count": 14,
      "outputs": [
        {
          "output_type": "display_data",
          "data": {
            "text/plain": [
              "<Figure size 640x480 with 1 Axes>"
            ],
            "image/png": "[encoded data removed]"
          },
          "metadata": {}
        }
      ]
    },
    {
      "cell_type": "markdown",
      "metadata": {
        "id": "kHP9_siNomA4"
      },
      "source": [
        "From above plot it can be seen that $ ∫f(x) dx = 1  $. "
      ]
    },
    {
      "cell_type": "markdown",
      "metadata": {
        "id": "liY-lmj_1NYy"
      },
      "source": [
        "### Constructing probability distributions for random variables and Expected value"
      ]
    },
    {
      "cell_type": "markdown",
      "metadata": {
        "id": "UVPChVM91QTY"
      },
      "source": [
        "**Constructing probability distributions for random variables:-**The probability distribution of a discrete random variable  $X$  is a list of each possible value of $X$  together with the probability that  $X$  takes that value in one trial of the experiment.\n",
        "\n",
        "The probabilities in the probability distribution of a random variable  X  must satisfy the following two conditions:\n",
        "\n",
        "Each probability  $P(x)$  must be between  0  and  1 :\n",
        "\n",
        "* $ 0 ≤ P_i ≤ 1 $\n",
        "\n",
        "The sum of all the possible probabilities is  1 :\n",
        "* $ ∑P_i = 1 $ \n",
        "\n",
        "\n"
      ]
    },
    {
      "cell_type": "markdown",
      "metadata": {
        "id": "77X4HPuFZiZS"
      },
      "source": [
        "**Expected value of a random variable:-** Let  X  be a numerically-valued discrete random variable with sample space  Ω  and distribution function  m(x) . The expected value  E(X)  is defined by provided this sum converges absolutely. It is represented as:\n",
        "\n",
        "\n",
        "$E(X)=\\sum_{x∈Ω}x.m(x)$\n",
        "\n"
      ]
    },
    {
      "cell_type": "markdown",
      "metadata": {
        "id": "AEfrf3Fs2XEp"
      },
      "source": [
        "**Exercise 4:** The random variable $X$ has a probability function:\n",
        "\\begin{equation}\n",
        "             \\nonumber P(X=x) = \\left\\{\n",
        "              \\begin{array}{l l}\n",
        "                k(x+4) & \\quad,  x= 0,1,2\\\\\n",
        "                k*x & \\quad  , x=3,4,5\n",
        "              \\end{array} \\right.\n",
        "            \\end{equation}\n",
        "Find the value of k, construct the probability distribution table and the expected value "
      ]
    },
    {
      "cell_type": "code",
      "metadata": {
        "id": "Swzjpu8P-xHM",
        "outputId": "f4dc0698-d95c-4b37-db8d-4bcd9ca5c19b",
        "colab": {
          "base_uri": "https://localhost:8080/"
        }
      },
      "source": [
        "# K(X+4) for x = 0,1,2\n",
        "lis = []\n",
        "for i in range(6):\n",
        "    if  i<=2:\n",
        "      i+=4\n",
        "      lis.append(i) \n",
        "    else:\n",
        "      lis.append(i)\n",
        "\n",
        "k = 1/sum(lis)\n",
        "print(\"The value of K is:\", round(k,5))\n",
        "data  = {\n",
        "    \"values\": lis,\n",
        "    }"
      ],
      "execution_count": 15,
      "outputs": [
        {
          "output_type": "stream",
          "name": "stdout",
          "text": [
            "The value of K is: 0.03704\n"
          ]
        }
      ]
    },
    {
      "cell_type": "code",
      "source": [
        "df = pd.DataFrame(data)\n",
        "print(df)"
      ],
      "metadata": {
        "id": "YgDrCHD3aW71",
        "outputId": "48f5a9cf-8d17-46a0-bacf-af92465ebb53",
        "colab": {
          "base_uri": "https://localhost:8080/"
        }
      },
      "execution_count": 16,
      "outputs": [
        {
          "output_type": "stream",
          "name": "stdout",
          "text": [
            "   values\n",
            "0       4\n",
            "1       5\n",
            "2       6\n",
            "3       3\n",
            "4       4\n",
            "5       5\n"
          ]
        }
      ]
    },
    {
      "cell_type": "code",
      "source": [
        "df[\"probability_distribution\"] = df[\"values\"] * k\n",
        "print (df[\"values\"])\n",
        "print(df[\"probability_distribution\"].sum())"
      ],
      "metadata": {
        "id": "WRb36LjnadUo",
        "outputId": "6f068952-974b-478b-c54a-4a8b742a50ff",
        "colab": {
          "base_uri": "https://localhost:8080/"
        }
      },
      "execution_count": 17,
      "outputs": [
        {
          "output_type": "stream",
          "name": "stdout",
          "text": [
            "0    4\n",
            "1    5\n",
            "2    6\n",
            "3    3\n",
            "4    4\n",
            "5    5\n",
            "Name: values, dtype: int64\n",
            "1.0\n"
          ]
        }
      ]
    },
    {
      "cell_type": "code",
      "source": [
        "# Creating a new column with the product of the columns of values and probability\n",
        "df['expected_value'] = df['values']*df['probability_distribution']\n",
        "\n",
        "# Expected value \n",
        "print(\"The expected value is:\",df['expected_value'].sum())"
      ],
      "metadata": {
        "id": "-BzuP3GsairB",
        "outputId": "83e99990-acba-47c3-cad9-d4af9b151aa2",
        "colab": {
          "base_uri": "https://localhost:8080/"
        }
      },
      "execution_count": 18,
      "outputs": [
        {
          "output_type": "stream",
          "name": "stdout",
          "text": [
            "The expected value is: 4.703703703703703\n"
          ]
        }
      ]
    },
    {
      "cell_type": "markdown",
      "metadata": {
        "id": "JeeOhd-lXzYL"
      },
      "source": [
        "### Expected value of a random variable"
      ]
    },
    {
      "cell_type": "markdown",
      "metadata": {
        "id": "MjE47_tF7jtN"
      },
      "source": [
        "**Expected value of a random variable:-** Let  X  be a numerically-valued discrete random variable with sample space  Ω  and distribution function  m(x) . The expected value  E(X)  is defined by provided this sum converges absolutely. It is represented as:\n",
        "\n",
        "$E(X)=\\sum_{x∈Ω}x.m(x)$,\n",
        "\n"
      ]
    },
    {
      "cell_type": "markdown",
      "metadata": {
        "id": "N5wft9Gh9HGv"
      },
      "source": [
        "**Exercise 5:** Let $S$ is the sample space given below and corresponding $P(X=x_i)$ is also given, where $X$ is a discrete random variable. Find the Expected value."
      ]
    },
    {
      "cell_type": "code",
      "metadata": {
        "id": "CxgXnGcj84N0",
        "outputId": "c03ff924-7a48-4e7e-b505-1229d2f07fbc",
        "colab": {
          "base_uri": "https://localhost:8080/"
        }
      },
      "source": [
        "data = {\n",
        "  \"values\": [0, 1, 2, 3, 4, 5],\n",
        "  \"probability_outcomes\": [0.15, 0.2, 0.15, 0.25, 0.15, 0.1]\n",
        "}\n",
        "\n",
        "df = pd.DataFrame(data) # load data into a DataFrame object\n",
        "\n",
        "df['expected_value'] = df['values']*df['probability_outcomes'] # creating a new column with the product of the columns of values and probability\n",
        "\n",
        "print(\"The expected value is:\",df['expected_value'].sum()) # expected value "
      ],
      "execution_count": 19,
      "outputs": [
        {
          "output_type": "stream",
          "name": "stdout",
          "text": [
            "The expected value is: 2.35\n"
          ]
        }
      ]
    },
    {
      "cell_type": "markdown",
      "metadata": {
        "id": "hhboyEyVi0Ka"
      },
      "source": [
        "### Probability Distributions"
      ]
    },
    {
      "cell_type": "markdown",
      "metadata": {
        "id": "tI8czPIjk_yy"
      },
      "source": [
        "**Probability distribution**:- It is a statistical function that describes all the possible values and likelihoods that a random variable can take within a given range.\n",
        "There are many types of Probability distribution,such as:-\n",
        "\n",
        "*   Uniform Distribution\n",
        "*   Bernoulli Distribution\n",
        "*   Binomial Distribution\n",
        "*   Poisson Distribution\n",
        "*   Exponential Distribution\n",
        "\n"
      ]
    },
    {
      "cell_type": "markdown",
      "metadata": {
        "id": "_tINpPU5tStq"
      },
      "source": [
        "### Uniform Distribution"
      ]
    },
    {
      "cell_type": "markdown",
      "metadata": {
        "id": "KXzRdwI7tYyI"
      },
      "source": [
        "**Uniform Distribution**:- The probability distribution function of the continuous uniform distribution is:\n",
        "$$f(x)=\\begin{equation}\n",
        "\\left\\{ \n",
        "  \\begin{aligned}\n",
        "    &\\frac{1}{b-a}&  for\\  a≤x≤b\\\\ \n",
        "    &0&   for\\  x<a\\ or\\ x>b\\\\ \n",
        "  \\end{aligned}\n",
        "  \\right.\n",
        "\\end{equation}\n",
        "$$\n",
        "\n",
        "Since any interval of numbers of equal width has an equal probability of being observed, the curve describing the distribution is a rectangle, with constant height across the interval and 0 height elsewhere. Since the area under the curve must be equal to 1, the length of the interval determines the height of the curve. For a uniform distribution in the interval (a,b), the area needs to be 1 so the height is set to 1/(b−a).\n",
        "\n",
        "\n",
        "To understand more click [here](https://docs.scipy.org/doc/scipy/reference/generated/scipy.stats.uniform.html)"
      ]
    },
    {
      "cell_type": "markdown",
      "metadata": {
        "id": "DujrTJgezJfh"
      },
      "source": [
        "**Exercise 6:** Plot the uniform distribution of size 10000 over the range {10,30}."
      ]
    },
    {
      "cell_type": "code",
      "metadata": {
        "id": "Kfe-V4Hl0F3_"
      },
      "source": [
        "# random numbers from uniform distribution\n",
        "n = 10000\n",
        "start = 10\n",
        "width = 20\n",
        "data_uniform = uniform.rvs(size=n, loc = start, scale=width)"
      ],
      "execution_count": 20,
      "outputs": []
    },
    {
      "cell_type": "code",
      "metadata": {
        "id": "hVdLCwgF0NFO",
        "outputId": "988a0c10-5c51-4b25-c2a5-c7563f92138e",
        "colab": {
          "base_uri": "https://localhost:8080/",
          "height": 449
        }
      },
      "source": [
        "# Ploting the graph\n",
        "sns.distplot(data_uniform)\n",
        "df_u = pd.DataFrame({'x':data_uniform})\n",
        "df_u['P'] = df_u['x'].apply(lambda v: 1/(width))\n",
        "plt.plot(df_u['x'], df_u['P'], '-')\n",
        "plt.xlabel('Uniform Distribution ')\n",
        "plt.ylabel('Frequency')\n",
        "plt.show()"
      ],
      "execution_count": 21,
      "outputs": [
        {
          "output_type": "display_data",
          "data": {
            "text/plain": [
              "<Figure size 640x480 with 1 Axes>"
            ],
            "image/png": "[encoded data removed]"
          },
          "metadata": {}
        }
      ]
    },
    {
      "cell_type": "markdown",
      "metadata": {
        "id": "RudTJq80nyxl"
      },
      "source": [
        "### Bernoulli Distribution"
      ]
    },
    {
      "cell_type": "markdown",
      "metadata": {
        "id": "lc-0orK-n7YD"
      },
      "source": [
        "**Bernoulli Distribution**:- A Bernoulli distribution has only two possible outcomes, namely 1 (success) and 0 (failure), and a single trial, for example, a coin toss. So the random variable *X*, which has a Bernoulli distribution, can take value 1 with the probability of success, *p*, and the value 0 with the probability of failure, *q* or *1−p*. The probabilities of success and failure need not be equally likely. The Bernoulli distribution is a special case of the binomial distribution where a single trial is conducted (*n*=1). Its probability mass function is given by:\n",
        "\n",
        "### $f(k,p) = p^{k} (1-p)^{1-k}$\n",
        "\n",
        "for $k$ in {0,1}, also $ 0≤p≤1$.\n",
        "\n",
        "\n",
        "To understand more click [here](https://docs.scipy.org/doc/scipy/reference/generated/scipy.stats.bernoulli.html)\n"
      ]
    },
    {
      "cell_type": "markdown",
      "metadata": {
        "id": "7-BPEXe4pWen"
      },
      "source": [
        "**Exercise 3:** Consider a random experiment of tossing a biased coin (having the probability of getting a head as 0.6) once. Plot the distribution associated with the event of getting heads in the given experiment if the process is repeated 10000 times."
      ]
    },
    {
      "cell_type": "code",
      "source": [
        "# Generate data\n",
        "p=0.6                      # probability of getting a head \n",
        "q=1-p                      # probability of getting a tail\n",
        "\n",
        "# Creating a data of size 10000\n",
        "data_bern = bernoulli.rvs(p,size=10000)"
      ],
      "metadata": {
        "id": "iRjiJAjoPjbz"
      },
      "execution_count": 22,
      "outputs": []
    },
    {
      "cell_type": "code",
      "source": [
        "# visualize data\n",
        "sns.distplot(data_bern, kde=False)\n",
        "df_br = pd.DataFrame({'x':data_bern})\n",
        "df_br['P'] = df_br['x'].apply(lambda v: (p**v)*(q**(1-v)))\n",
        "plt.plot(df_br['x'], 10000*df_br['P'], '.')\n",
        "plt.xlabel('Bernoulli Distribution')\n",
        "plt.ylabel('Frequency')\n",
        "plt.show()"
      ],
      "metadata": {
        "id": "aFsD1nDPPwpn",
        "outputId": "88a122cb-3095-47af-f4ed-245d5161de03",
        "colab": {
          "base_uri": "https://localhost:8080/",
          "height": 449
        }
      },
      "execution_count": 23,
      "outputs": [
        {
          "output_type": "display_data",
          "data": {
            "text/plain": [
              "<Figure size 640x480 with 1 Axes>"
            ],
            "image/png": "[encoded data removed]"
          },
          "metadata": {}
        }
      ]
    },
    {
      "cell_type": "markdown",
      "metadata": {
        "id": "b4xdFCu40EXK"
      },
      "source": [
        "### Binomial Distribution"
      ]
    },
    {
      "cell_type": "markdown",
      "metadata": {
        "id": "98KYXjiH69XT"
      },
      "source": [
        "**Binomial Distribution**:- A distribution where only two outcomes are possible, such as success or failure, gain or loss, win or lose and where the probability of success and failure is the same for all the trials is called a binomial distribution. However, the outcomes need not be equally likely, and each trial is independent of the other. The most common example is that of flipping a coin n number of times and calculating the probabilities of getting a particular number of heads. More real-world examples include the number of successful sales calls for a company or whether a drug works for a disease or not.\n",
        "\n",
        "The parameters of a binomial distribution are *n* and *p* where *n* is the total number of trials, and *p* is the probability of success in each trial. Its probability distribution function is given by :\n",
        "\n",
        "### $f(k,n,p) = P(X=k) = \\begin{pmatrix}\n",
        "n \\\\\n",
        "k \n",
        "\\end{pmatrix} p^k(1-p)^{n-k}$\n",
        "\n",
        "\n",
        "where :\n",
        "$\\binom{n}{k} = \\frac{n!}{k!(n-k)!}$\n",
        "\n",
        "where, *k* is the number of times the success is achieved and lies in {0, 1,..., n}, also $ 0≤p≤1$.\n",
        "\n",
        "\n",
        "To understand more click [here](https://docs.scipy.org/doc/scipy/reference/generated/scipy.stats.binom.html)\n"
      ]
    },
    {
      "cell_type": "markdown",
      "metadata": {
        "id": "OOtBKAed_A5X"
      },
      "source": [
        "**Exercise 2:** Consider an event where a fair coin is tossed 10 times and the total number of heads is recorded. Plot the distribution for the event."
      ]
    },
    {
      "cell_type": "code",
      "source": [
        "# Generate data\n",
        "p = 1/2             # probability of getting a head\n",
        "q = 1-p             # probability of getting a tail\n",
        "n = 10              # total number of trials\n",
        "data_binom = binom.rvs(n,p,size=10000)"
      ],
      "metadata": {
        "id": "sr0ZObP6Q84x"
      },
      "execution_count": 24,
      "outputs": []
    },
    {
      "cell_type": "code",
      "source": [
        "# Visualize data\n",
        "sns.distplot(data_binom, kde=False)\n",
        "df_b = pd.DataFrame({'x':data_binom})\n",
        "df_b['P'] = df_b['x'].apply(lambda v: (math.factorial(n)/(math.factorial(n-v)*math.factorial(v)))*(p**v)*(q**(n-v)))\n",
        "plt.plot(df_b['x'], 10000*df_b['P'], '.')\n",
        "plt.xlabel('Binomial Distribution')\n",
        "plt.ylabel('Frequency')\n",
        "plt.show()"
      ],
      "metadata": {
        "id": "126HpLWhRD5m",
        "outputId": "fb7eb23a-8ee3-44db-c835-88b1a2035419",
        "colab": {
          "base_uri": "https://localhost:8080/",
          "height": 449
        }
      },
      "execution_count": 25,
      "outputs": [
        {
          "output_type": "display_data",
          "data": {
            "text/plain": [
              "<Figure size 640x480 with 1 Axes>"
            ],
            "image/png": "[encoded data removed]"
          },
          "metadata": {}
        }
      ]
    },
    {
      "cell_type": "markdown",
      "source": [
        "#### Practical example explaining use case of binomial distribution"
      ],
      "metadata": {
        "id": "jmfIjgzaY4ty"
      }
    },
    {
      "cell_type": "markdown",
      "source": [
        "\n",
        " There are 10 sets of traffic lights on the journey.The probability that a driver must stop at any one traffic light coming to airport is 0.25\n",
        " \n",
        "(a) What is the probability that a driver must stop at exactly 2 of the 10 sets of traffic lights?\n",
        "\n",
        "(b) What is the probability that a driver will be stopped at 1 or more of the 10 sets of traffic lights?"
      ],
      "metadata": {
        "id": "8DdUE7kCZEMj"
      }
    },
    {
      "cell_type": "markdown",
      "source": [
        "**(a) What is the probability that a driver must stop at exactly 2 of the 10 sets of traffic lights?**\n",
        "\n",
        "Here we have to calculate the probablity that particular event happens exactly two times\n",
        "\n",
        "$$ P(X = 2) = {\\binom{10}{2}\\cdot(0.25)^2\\cdot(1-0.25)^8}.$$"
      ],
      "metadata": {
        "id": "M5GQc807zfV_"
      }
    },
    {
      "cell_type": "code",
      "source": [
        "n = 10   # Number of times experiment runs\n",
        "p = 0.25 # Probability of outcome(here driver stopping at traffic light)\n",
        "k = 2    # Number of successful trails(given n trails)\n",
        "\n",
        "pmf_binomial = stats.binom.pmf(k,n,p) # Probability mass function for k = 2 i.e. P(X=2)\n",
        "print(f\"Probability that a driver stops at exactly 2 out of the 10 traffic lights is  {round(pmf_binomial,4)}\")"
      ],
      "metadata": {
        "id": "nL0PgofRYxo5",
        "outputId": "5312b74b-eda7-41b8-aa2c-3d96db15dfac",
        "colab": {
          "base_uri": "https://localhost:8080/"
        }
      },
      "execution_count": 26,
      "outputs": [
        {
          "output_type": "stream",
          "name": "stdout",
          "text": [
            "Probability that a driver stops at exactly 2 out of the 10 traffic lights is  0.2816\n"
          ]
        }
      ]
    },
    {
      "cell_type": "markdown",
      "source": [
        "To understand more about ***stats.binom.pmf()*** method and its usage [click here](https://docs.scipy.org/doc/scipy/reference/generated/scipy.stats.binom.html#scipy.stats.binom)"
      ],
      "metadata": {
        "id": "soq_0UXg19Uf"
      }
    },
    {
      "cell_type": "markdown",
      "source": [
        "**(b) What is the probability that a driver will be stopped at 1 or more of the 10 sets of traffic lights?**\n",
        "\n",
        "Here we have to calculate the probablity that particular event happens one or more times i.e. $ P(X≥1) $ or $ [1- P(X=0)] $\n",
        "\n",
        "$$ P(X ≥ 1) = 1 - [{\\binom{10}{0}\\cdot(0.25)^0\\cdot(1-0.25)^{10} }].$$"
      ],
      "metadata": {
        "id": "hK9oR1Bt3z4g"
      }
    },
    {
      "cell_type": "code",
      "source": [
        "n = 10   # Number of times experiment runs\n",
        "p = 0.25 # Probability of outcome(here driver stopping at traffic light)\n",
        "k = 0    # Number of successful trails(given n trails)\n",
        "\n",
        "cumbinomial = stats.binom.cdf(k,n,p) # P(X>=1) or 1-P(X=0)\n",
        "print(f\"Probability that driver will be stopped at 1 or more of 10 sets of traffic lights is {round(1-cumbinomial,4)}\")  "
      ],
      "metadata": {
        "id": "EPYBDYYWbq0H",
        "outputId": "44e5a297-345a-43ca-e610-d868c0ebf750",
        "colab": {
          "base_uri": "https://localhost:8080/"
        }
      },
      "execution_count": 27,
      "outputs": [
        {
          "output_type": "stream",
          "name": "stdout",
          "text": [
            "Probability that driver will be stopped at 1 or more of 10 sets of traffic lights is 0.9437\n"
          ]
        }
      ]
    },
    {
      "cell_type": "markdown",
      "source": [
        "To understand more about ***stats.binom.cdf()*** method and its usage [click here](https://docs.scipy.org/doc/scipy/reference/generated/scipy.stats.binom.html#scipy.stats.binom)"
      ],
      "metadata": {
        "id": "_Cma9n3y9Shg"
      }
    },
    {
      "cell_type": "markdown",
      "metadata": {
        "id": "eEiL34epPdIq"
      },
      "source": [
        "### Poisson Distribution"
      ]
    },
    {
      "cell_type": "markdown",
      "metadata": {
        "id": "gkasrxKDPhBG"
      },
      "source": [
        "**Poisson Distribution**:- Poisson random variable is typically used to model the number of times an event happened in a time interval. For example, the number of users visited on a website in an interval can be thought of as a Poisson process. Poisson distribution is described in terms of the rate at which the events happen. An event can occur 0, 1, 2, … times in an interval. The average number of events in an interval is designated as *λ*. Lambda(λ) is the event rate, also called the rate parameter. The probability of observing *k* events in an interval is given by the equation:\n",
        "\n",
        "$$ P(k\\ events\\ in\\ the\\ interval) = \\frac{e^{-λ}λ^k}{k!} $$\n",
        "\n",
        "To understand more click [here](https://docs.scipy.org/doc/scipy/reference/generated/scipy.stats.poisson.html)"
      ]
    },
    {
      "cell_type": "markdown",
      "metadata": {
        "id": "7VODgItpRb2d"
      },
      "source": [
        "**Exercise 5:** Plot the poisson distribution having size 10000 and given rate(mean) parameter as 4."
      ]
    },
    {
      "cell_type": "code",
      "metadata": {
        "id": "416-P14YRAem"
      },
      "source": [
        "# Generate data\n",
        "rate = 4\n",
        "data_poisson = poisson.rvs(rate, size=10000)"
      ],
      "execution_count": 28,
      "outputs": []
    },
    {
      "cell_type": "code",
      "metadata": {
        "id": "IGgI7z4aRPDp",
        "outputId": "16157f89-f3e1-48ac-9fd2-3656065a29a6",
        "colab": {
          "base_uri": "https://localhost:8080/",
          "height": 449
        }
      },
      "source": [
        "# visualize data\n",
        "sns.distplot(data_poisson, bins=30, kde= False)\n",
        "df_p = pd.DataFrame({'x':data_poisson})\n",
        "df_p['P'] = df_p['x'].apply(lambda v: (rate**v)*(np.e**(-rate))/math.factorial(v))\n",
        "plt.plot(df_p['x'], 10000*df_p['P'], '.')\n",
        "plt.xlabel('Poisson Distribution')\n",
        "plt.ylabel('Frequency')\n",
        "plt.show()"
      ],
      "execution_count": 29,
      "outputs": [
        {
          "output_type": "display_data",
          "data": {
            "text/plain": [
              "<Figure size 640x480 with 1 Axes>"
            ],
            "image/png": "[encoded data removed]"
          },
          "metadata": {}
        }
      ]
    },
    {
      "cell_type": "markdown",
      "source": [
        "#### Practical example for Poisson distribution"
      ],
      "metadata": {
        "id": "aksxK17E-bj6"
      }
    },
    {
      "cell_type": "markdown",
      "source": [
        "The number of work related injuries per month in a manufacturing plant is known to follow a Poisson distribution, with a mean of 2.5 work-related injuries a month.\n",
        "\n",
        "a) What is the probability that in a given month, no work-related injuries occur?\n",
        "\n",
        "b) That at least two work- related injury occurs?"
      ],
      "metadata": {
        "id": "oIkBRWLE-bj8"
      }
    },
    {
      "cell_type": "markdown",
      "source": [
        "**(a) What is the probability that in a given month, no work-related injuries occur?**\n",
        "\n",
        "Here we have to calculate the probablity that given month has,no work related injuries using probability mass function\n",
        "\n",
        "$$ P(X = 0) = \\frac{(e^{-2.5} * 2.5^{0})} {0!}\n",
        " $$\n",
        " $$ P(X = 0) = 0.08208 $$"
      ],
      "metadata": {
        "id": "uNmPPbmrC4Hh"
      }
    },
    {
      "cell_type": "code",
      "source": [
        "# Calculate probability using pmf\n",
        "print(f\"probability that in a given month, no work-related injuries occur i.e. P(X=0) is {round(stats.poisson.pmf(k=0, mu=2.5),4)}\")  # P(X = 0)"
      ],
      "metadata": {
        "id": "Jym0quTc-bj-",
        "outputId": "0330e97c-83aa-4181-8a30-19f88df13ded",
        "colab": {
          "base_uri": "https://localhost:8080/"
        }
      },
      "execution_count": 30,
      "outputs": [
        {
          "output_type": "stream",
          "name": "stdout",
          "text": [
            "probability that in a given month, no work-related injuries occur i.e. P(X=0) is 0.0821\n"
          ]
        }
      ]
    },
    {
      "cell_type": "markdown",
      "source": [
        "To understand more about ***stats.poisson.pmf()*** method and its usage [click here](https://docs.scipy.org/doc/scipy/reference/generated/scipy.stats.poisson.html?highlight=stats%20poisson%20cdf)"
      ],
      "metadata": {
        "id": "IIlaLklUGZu8"
      }
    },
    {
      "cell_type": "markdown",
      "source": [
        "**b) That at least two work- related injury occurs?**\n",
        "\n",
        "Here we have to calculate the probablity that given month has,two or more related injuries\n",
        "\n",
        "$$ P(X >=2 ) = 1 - [P(X <2 ) $$\n",
        "$$ P(X >=2 ) = 1 - [P(X = 0) +P(X=1)] $$\n",
        "$$ P(X >=2 ) = 1 - [\\frac{(e^{-2.5} * 2.5^{0})} {0!}  +   \\frac{(e^{-2.5} * 2.5^{1})} {1!}]\n",
        " $$\n",
        " $$ P(X >=2 ) = 0.7127025048163542 $$"
      ],
      "metadata": {
        "id": "_xwbsVceEE6k"
      }
    },
    {
      "cell_type": "code",
      "source": [
        "# Calculating probability using CDF\n",
        "cumulative_binomial = stats.poisson.cdf(k=1, mu=2.5) # P(X>=2) or 1-P(X=0)-P(X=1)\n",
        "print(f\"Probability that least two work-related injury occurs i.e P(X>=2) is {round(1-cumulative_binomial,4)}\")"
      ],
      "metadata": {
        "id": "USRlgPGN-bkA",
        "outputId": "53cbade0-2c9f-4d4e-e27b-b4fdecc41884",
        "colab": {
          "base_uri": "https://localhost:8080/"
        }
      },
      "execution_count": 31,
      "outputs": [
        {
          "output_type": "stream",
          "name": "stdout",
          "text": [
            "Probability that least two work-related injury occurs i.e P(X>=2) is 0.7127\n"
          ]
        }
      ]
    },
    {
      "cell_type": "markdown",
      "source": [
        "To understand more about ***stats.poisson.cdf()*** method and its usage [click here](https://docs.scipy.org/doc/scipy/reference/generated/scipy.stats.poisson.html?highlight=stats%20poisson%20cdf)"
      ],
      "metadata": {
        "id": "e8nbF46sGG0S"
      }
    },
    {
      "cell_type": "markdown",
      "metadata": {
        "id": "iZWE-hMeRpMJ"
      },
      "source": [
        "### Exponential Distribution"
      ]
    },
    {
      "cell_type": "markdown",
      "metadata": {
        "id": "aJflrxWsRrTr"
      },
      "source": [
        "**Exponential Distribution:-**A continuous random variable $X$ is said to have an exponential distribution with parameter $λ>0$, shown as $X∼Exponential(λ)$, if its PDF is given by \\begin{equation}\n",
        "             \\nonumber f_X(x;\\mu) = \\left\\{\n",
        "              \\begin{array}{l l}\n",
        "                \\lambda e^{-\\lambda x} & \\quad  x > 0\\\\\n",
        "                0 & \\quad \\textrm{otherwise}\n",
        "              \\end{array} \\right.\n",
        "            \\end{equation}\n",
        "To understand more, click [here](https://docs.scipy.org/doc/scipy/reference/generated/scipy.stats.expon.html)."
      ]
    },
    {
      "cell_type": "markdown",
      "metadata": {
        "id": "q5Vijtd8TN8G"
      },
      "source": [
        "**Exercise 4:-** Generate Exponential random data and plot it."
      ]
    },
    {
      "cell_type": "code",
      "metadata": {
        "id": "mL5zD7eaTldp"
      },
      "source": [
        "# Generate random normalised data \n",
        "data_expon = expon.rvs(size=1000)"
      ],
      "execution_count": 32,
      "outputs": []
    },
    {
      "cell_type": "code",
      "metadata": {
        "id": "3qDS-BMbTnsm",
        "outputId": "fc370856-aa3b-4c54-aea9-643f9d9e8ead",
        "colab": {
          "base_uri": "https://localhost:8080/",
          "height": 449
        }
      },
      "source": [
        "ax = sns.distplot(data_expon,\n",
        "                  kde=True,\n",
        "                  bins=100,\n",
        "                  color='skyblue',\n",
        "                  hist = True)\n",
        "ax.set(xlabel='Exponential Distribution', ylabel='Frequency');"
      ],
      "execution_count": 33,
      "outputs": [
        {
          "output_type": "display_data",
          "data": {
            "text/plain": [
              "<Figure size 640x480 with 1 Axes>"
            ],
            "image/png": "[encoded data removed]"
          },
          "metadata": {}
        }
      ]
    },
    {
      "cell_type": "markdown",
      "source": [
        "### Measures of Central Tendency and Variability\n",
        "\n",
        "There are three main measures of central tendency: the mode, the median and the mean. Each of these measures describes a different indication of the typical or central value in the distribution.\n",
        "\n",
        "\n",
        "**Mean** \n",
        "\n",
        "The mean is the sum of the value of each observation in a dataset divided by the number of observations. This is also known as the arithmetic average.\n",
        "\n",
        "**Advantage of the mean** : The mean can be used for both continuous and discrete numeric data.\n",
        "\n",
        "**Limitations of the mean** : The mean cannot be calculated for categorical data, as the values cannot be summed.\n",
        "\n",
        "As the mean includes every value in the distribution the mean is influenced by outliers and skewed distributions.\n",
        "\n",
        "\n",
        "**Median** \n",
        "\n",
        "The median is the middle value in distribution when the values are arranged in ascending or descending order.\n",
        "\n",
        "The median divides the distribution in half (there are 50% of observations on either side of the median value). In a distribution with an odd number of observations, the median value is the middle value.\n",
        "\n",
        "**Advantage of the median**: The median is less affected by outliers and skewed data than the mean, and is usually the preferred measure of central tendency when the distribution is not symmetrical.\n",
        "\n",
        "**Limitation of the median**: The median cannot be identified for categorical nominal data, as it cannot be logically ordered.\n",
        "\n",
        "\n",
        "**Mode**\n",
        "\n",
        "The mode is the most commonly occurring value in a distribution.\n",
        "\n",
        "**Advantage of the mode**: The mode has an advantage over the median and the mean as it can be found for both numerical and categorical (non-numerical) data.\n",
        "\n",
        "**Limitations of the mode**: The are some limitations to using the mode. In some distributions, the mode may not reflect the centre of the distribution very well. \n"
      ],
      "metadata": {
        "id": "48Aub8JE0CSV"
      }
    },
    {
      "cell_type": "markdown",
      "source": [
        " **1.** The retirement age of eleven people are 54, 54, 54, 55, 56, 57, 57, 58, 58, 60, and 60. Find the mean, median and mode for the retirement age."
      ],
      "metadata": {
        "id": "AE14RQFMtJ1a"
      }
    },
    {
      "cell_type": "code",
      "source": [
        "retirement_age = [54, 54, 54, 55, 56, 57, 57, 58, 58, 60, 60]"
      ],
      "metadata": {
        "id": "ju4xuumuWJQ5"
      },
      "execution_count": 34,
      "outputs": []
    },
    {
      "cell_type": "markdown",
      "source": [
        "The mean is calculated by adding together all the values **(54+54+54+55+56+57+57+58+58+60+60 = 623)** and dividing by the number of observations (11. But here we will directly use mean() method of numpy library."
      ],
      "metadata": {
        "id": "mdFvKd2aW-0v"
      }
    },
    {
      "cell_type": "code",
      "source": [
        "np.mean(retirement_age)"
      ],
      "metadata": {
        "id": "gd1Az7-EWpeX",
        "outputId": "a1ca387a-9cb1-4e0a-ab10-bf3b5a493d15",
        "colab": {
          "base_uri": "https://localhost:8080/"
        }
      },
      "execution_count": 35,
      "outputs": [
        {
          "output_type": "execute_result",
          "data": {
            "text/plain": [
              "56.63636363636363"
            ]
          },
          "metadata": {},
          "execution_count": 35
        }
      ]
    },
    {
      "cell_type": "code",
      "source": [
        "np.median(retirement_age)"
      ],
      "metadata": {
        "id": "q-K5V2LuWqOv",
        "outputId": "fc085c0a-713e-4c87-8725-70e60a2e296c",
        "colab": {
          "base_uri": "https://localhost:8080/"
        }
      },
      "execution_count": 36,
      "outputs": [
        {
          "output_type": "execute_result",
          "data": {
            "text/plain": [
              "57.0"
            ]
          },
          "metadata": {},
          "execution_count": 36
        }
      ]
    },
    {
      "cell_type": "markdown",
      "source": [
        "For the above data, the median is the middle value, which is 57 years.\n",
        "\n",
        "But, when the distribution has an even number of observations, the median value is the mean of the two middle values. Consider the following distribution, the two middle values are 56 and 57, therefore the median equals 56.5 years:\n",
        "\n",
        "52, 54, 54, 54, 55, 56, 57, 57, 58, 58, 60, 60"
      ],
      "metadata": {
        "id": "OJhR3Qo-dSo9"
      }
    },
    {
      "cell_type": "code",
      "source": [
        "# Use the mode() function from the statistics module\n",
        "stats.mode(retirement_age)"
      ],
      "metadata": {
        "id": "8-cxsq-eWpW7",
        "outputId": "32f66fa7-eb6c-4d15-9fad-0dd834b07a8f",
        "colab": {
          "base_uri": "https://localhost:8080/"
        }
      },
      "execution_count": 37,
      "outputs": [
        {
          "output_type": "execute_result",
          "data": {
            "text/plain": [
              "ModeResult(mode=array([54]), count=array([3]))"
            ]
          },
          "metadata": {},
          "execution_count": 37
        }
      ]
    },
    {
      "cell_type": "markdown",
      "source": [
        "The above `stats.mode()` method returns \n",
        "\n",
        "`mode:` Array of modal values.\n",
        "\n",
        "`count:` Array of counts for each mode.\n",
        "\n",
        "\n",
        "The most commonly occurring value is 54, therefore the mode of this distribution is 54 years.\n",
        "\n",
        "When the distribution of retirement age is ordered from lowest to highest value, it is easy to see that the centre of the distribution is 57 years, but the mode is lower, at 54 years.\n",
        "\n",
        "54, 54, 54, 55, 56, 57, 57, 58, 58, 60, 60\n",
        "\n",
        "It is also possible for there to be more than one mode for the same distribution of data, (bi-modal, or multi-modal). The presence of more than one mode can limit the ability of the mode in describing the centre or typical value of the distribution because a single value to describe the centre cannot be identified.\n",
        "\n",
        "In some cases, particularly where the data are continuous, the distribution may have no mode at all (i.e. if all values are different).\n",
        "\n",
        "In cases such as these, it may be better to consider using the median or mean, or group the data in to appropriate intervals, and find the modal class.\n"
      ],
      "metadata": {
        "id": "Y5BM311hffAh"
      }
    },
    {
      "cell_type": "markdown",
      "source": [
        "**How do outliers influence the measures of central tendency?**\n",
        "\n",
        "**Outliers are extreme, or atypical data value(s) that are notably different from the rest of the data.**\n",
        "\n",
        "It is important to detect outliers within a distribution, because they can alter the results of the data analysis. The mean is more sensitive to the existence of outliers than the median or mode.\n",
        "\n",
        "Consider the initial retirement age dataset again, with one difference; the last observation of 60 years has been replaced with a retirement age of 81 years. This value is much higher than the other values, and could be considered an outlier. However, it has not changed the middle of the distribution, and therefore the median value is still 57 years.\n",
        "\n",
        "54, 54, 54, 55, 56, 57, 57, 58, 58, 60, 81\n",
        "\n",
        "As the all values are included in the calculation of the mean, the outlier will influence the mean value.\n",
        "\n",
        "(54+54+54+55+56+57+57+58+58+60+81 = 644), divided by 11 = 58.5 years\n",
        "\n",
        "In this distribution the outlier value has increased the mean value.\n",
        "\n",
        "Despite the existence of outliers in a distribution, the mean can still be an appropriate measure of central tendency, especially if the rest of the data is normally distributed. If the outlier is confirmed as a valid extreme value, it should not be removed from the dataset. Several common regression techniques can help reduce the influence of outliers on the mean value."
      ],
      "metadata": {
        "id": "sdEUcN88fz07"
      }
    },
    {
      "cell_type": "markdown",
      "source": [
        "### Expectation and Moments of Random Variables\n",
        "\n",
        "**Expectation:** The expected value of a random variable $X$, which is denoted $E(X)$, is a generalization of the weighted average. The expectation or expected value of a random variable is a single number and it tells us a lot about the behavior of the variable. In simple terms, the expectation is the average value of the random variable where each value is weighted according to its probability. \n",
        "\n",
        "For a discrete random variable that can take $n$ outcomes like $x_1, x_2, x_3, ..., x_n$ with probabilities $p_1, p_2, p_3,..., p_n$, the expectation is given by,\n",
        "\n",
        "$E(X) = \\Sigma_{i=1}^{n}p_i.x_i$\n",
        "\n",
        "For a continuous random variable we use integration in place of summation. The formula to remember is,\n",
        "\n",
        "$ E(X) = \\int_{x_{min}}^{x_{max}} x.f(x) \\,dx $\n",
        "\n",
        "Here $f(x)$ is the probability density function.\n",
        "\n",
        "Let us now check a simple python code for finding the expectation of a given discrete random variable. The random variable can take values of $\\{1, 4, 3\\}$ and have probabilities $\\{0.1, 0.5, 0.4\\}$.\n"
      ],
      "metadata": {
        "id": "n3bRvdoGcCm-"
      }
    },
    {
      "cell_type": "code",
      "source": [
        "# A simple function to calculate expectation in python. The function works for discrete random variables only.\n",
        "\n",
        "def expectation(outcomes, probs):\n",
        "    e = 0\n",
        "    \n",
        "    # Adding some essential checks.\n",
        "    if len(outcomes) != len(probs):\n",
        "      raise ValueError(\"The number of outcomes and number of probabilities given does not match\")\n",
        "\n",
        "    if sum(probs) != 1:\n",
        "      raise ValueError(\"The probability does not sum up to 1!\")\n",
        "\n",
        "    for i in range(len(outcomes)):\n",
        "      e += outcomes[i] * probs[i]\n",
        "    return e\n",
        "\n",
        "# Let us define x and p's.\n",
        "x = [1, 4, 3]\n",
        "p = [0.1, 0.5, 0.4]\n",
        "\n",
        "print (\"Expectation of the given random experiment is: \", expectation(x, p))"
      ],
      "metadata": {
        "id": "x0yebVambabO",
        "outputId": "cb8acf1d-8780-4d01-978d-2df0bf947f49",
        "colab": {
          "base_uri": "https://localhost:8080/"
        }
      },
      "execution_count": 38,
      "outputs": [
        {
          "output_type": "stream",
          "name": "stdout",
          "text": [
            "Expectation of the given random experiment is:  3.3000000000000003\n"
          ]
        }
      ]
    },
    {
      "cell_type": "markdown",
      "source": [
        "**Moment:** In general, moment of a function are quantitative measures that depicts the shape of the function's graph. In a probability distribution, the first moment is the expectation (described above), the second central moment is the variance, the third standardized moment is the skewness, and the fourth standardized moment is the kurtosis, etc. The general formula for a $k^{th}$ moment in ``scipy`` is,\n",
        "\n",
        "![moment.png](data:image/png;base64,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)\n",
        "\n",
        "Here $n$ are the number of discrete examples and $\\overline{x}$ is the mean of the examples. \n",
        "\n",
        "To summarize moments,\n",
        "* 1st moment: expectation\n",
        "* 2nd moment: variance\n",
        "* 3rd moment: Skew\n",
        "\n",
        "We will conduct an experiment based on this information. First, we will sample 10,000 points from a normal distribution of know $\\mu$ and $\\sigma$. We will then use the function to calculate moments. Ideally, the 1st and 2nd moments should match those of $\\mu$ and $\\sigma$ respectively. "
      ],
      "metadata": {
        "id": "R-LYLtb4cnH-"
      }
    },
    {
      "cell_type": "code",
      "source": [
        "# Declaring mu and sigma according to our choice\n",
        "mu = 10\n",
        "standard_dev = 5\n",
        "\n",
        "# 10000 points are sampled from the normal distribution with given mu and sigma.\n",
        "data_normal = scipy.stats.norm.rvs(size=10000, loc=mu, scale=standard_dev)\n",
        "\n",
        "print (\"Variance given to the function: \", standard_dev**2)\n",
        "print(\"Calculated 2nd moment (variance): \", scipy.stats.moment(data_normal, moment = 2))\n",
        "\n",
        "print (\"-------------------------------------\")\n",
        "print(\"3rd moment: \", scipy.stats.moment(data_normal, moment = 3))\n",
        "\n",
        "print(\"4th moment: \", scipy.stats.moment(data_normal, moment = 4))"
      ],
      "metadata": {
        "id": "fwdTmWAXbafj",
        "outputId": "ed67f504-24a4-45a3-d5b9-b47493e92275",
        "colab": {
          "base_uri": "https://localhost:8080/"
        }
      },
      "execution_count": 39,
      "outputs": [
        {
          "output_type": "stream",
          "name": "stdout",
          "text": [
            "Variance given to the function:  25\n",
            "Calculated 2nd moment (variance):  25.56043969437521\n",
            "-------------------------------------\n",
            "3rd moment:  1.4688934854841134\n",
            "4th moment:  1991.6273072753854\n"
          ]
        }
      ]
    },
    {
      "cell_type": "markdown",
      "metadata": {
        "id": "VHfHdGCP_n6Y"
      },
      "source": [
        "### Please answer the questions below to complete the experiment:\n",
        "\n",
        "\n"
      ]
    },
    {
      "cell_type": "code",
      "metadata": {
        "id": "kmvdJ4aNmGjR"
      },
      "source": [
        "#@title Q.1. In a hospital, research show that of patients suffering from a certain illness, 75% die of it. What is the probability that of 6 randomly selected patients, at least one will recover? { run: \"auto\", form-width: \"500px\", display-mode: \"form\" }\n",
        "Answer1 = \"0.822\" #@param [\"\",\"0.822\", \"0.355\", \"0.2966\", \"0.004395\"]"
      ],
      "execution_count": 40,
      "outputs": []
    },
    {
      "cell_type": "code",
      "metadata": {
        "id": "UX24XAeIJ6Nf"
      },
      "source": [
        "#@title Q.2. If X is a continuous random variable with pdf f(x), then what is the relationship between Variance and the Expected value of X? { run: \"auto\", form-width: \"500px\", display-mode: \"form\" }\n",
        "Answer2 = \"E[X**2] - E[X]**2\" #@param [\"\",\"E[X]**2 - E[X**2]\", \"E[X**2] - E[X]**2\", \"E[X**2] - XE[X]\", \"None of the above\"]"
      ],
      "execution_count": 41,
      "outputs": []
    },
    {
      "cell_type": "code",
      "metadata": {
        "id": "NMzKSbLIgFzQ"
      },
      "source": [
        "#@title How was the experiment? { run: \"auto\", form-width: \"500px\", display-mode: \"form\" }\n",
        "Complexity = \"Good and Challenging for me\" #@param [\"\",\"Too Simple, I am wasting time\", \"Good, But Not Challenging for me\", \"Good and Challenging for me\", \"Was Tough, but I did it\", \"Too Difficult for me\"]\n"
      ],
      "execution_count": 42,
      "outputs": []
    },
    {
      "cell_type": "code",
      "metadata": {
        "id": "DjcH1VWSFI2l"
      },
      "source": [
        "#@title If it was too easy, what more would you have liked to be added? If it was very difficult, what would you have liked to have been removed? { run: \"auto\", display-mode: \"form\" }\n",
        "Additional = \"NA\" #@param {type:\"string\"}\n"
      ],
      "execution_count": 43,
      "outputs": []
    },
    {
      "cell_type": "code",
      "metadata": {
        "id": "4VBk_4VTAxCM"
      },
      "source": [
        "#@title Can you identify the concepts from the lecture which this experiment covered? { run: \"auto\", vertical-output: true, display-mode: \"form\" }\n",
        "Concepts = \"Yes\" #@param [\"\",\"Yes\", \"No\"]\n"
      ],
      "execution_count": 44,
      "outputs": []
    },
    {
      "cell_type": "code",
      "metadata": {
        "id": "XH91cL1JWH7m"
      },
      "source": [
        "#@title  Text and image description/explanation and code comments within the experiment: { run: \"auto\", vertical-output: true, display-mode: \"form\" }\n",
        "Comments = \"Very Useful\" #@param [\"\",\"Very Useful\", \"Somewhat Useful\", \"Not Useful\", \"Didn't use\"]\n"
      ],
      "execution_count": 45,
      "outputs": []
    },
    {
      "cell_type": "code",
      "metadata": {
        "id": "z8xLqj7VWIKW"
      },
      "source": [
        "#@title Mentor Support: { run: \"auto\", vertical-output: true, display-mode: \"form\" }\n",
        "Mentor_support = \"Very Useful\" #@param [\"\",\"Very Useful\", \"Somewhat Useful\", \"Not Useful\", \"Didn't use\"]\n"
      ],
      "execution_count": 46,
      "outputs": []
    },
    {
      "cell_type": "code",
      "metadata": {
        "id": "FzAZHt1zw-Y-",
        "cellView": "form",
        "outputId": "d386ddba-080d-4617-c2b7-fc7ffdb7c352",
        "colab": {
          "base_uri": "https://localhost:8080/"
        }
      },
      "source": [
        "#@title Run this cell to submit your notebook for grading { vertical-output: true }\n",
        "try:\n",
        "  if submission_id:\n",
        "      return_id = submit_notebook()\n",
        "      if return_id : submission_id = return_id\n",
        "  else:\n",
        "      print(\"Please complete the setup first.\")\n",
        "except NameError:\n",
        "  print (\"Please complete the setup first.\")"
      ],
      "execution_count": 47,
      "outputs": [
        {
          "output_type": "stream",
          "name": "stdout",
          "text": [
            "Your submission is successful.\n",
            "Ref Id: 289\n",
            "Date of submission:  10 Jun 2023\n",
            "Time of submission:  15:17:47\n",
            "View your submissions: https://dlfa-iisc.talentsprint.com/notebook_submissions\n"
          ]
        }
      ]
    }
  ]
}